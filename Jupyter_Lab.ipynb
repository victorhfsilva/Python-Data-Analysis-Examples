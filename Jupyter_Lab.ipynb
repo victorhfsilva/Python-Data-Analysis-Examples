{
 "cells": [
  {
   "cell_type": "markdown",
   "id": "7108fafa-d7b4-4bc6-b5ac-70c2bbb89d70",
   "metadata": {},
   "source": [
    "# Jupyter Lab\n",
    "***"
   ]
  },
  {
   "cell_type": "markdown",
   "id": "09cb6742-f61d-455b-97f1-ac31c5ffa58b",
   "metadata": {},
   "source": [
    "## Code Example"
   ]
  },
  {
   "cell_type": "code",
   "execution_count": 13,
   "id": "026ab6d1-4d45-4654-9dbb-18efd179cb31",
   "metadata": {},
   "outputs": [
    {
     "name": "stdout",
     "output_type": "stream",
     "text": [
      "yellow banana\n"
     ]
    }
   ],
   "source": [
    "class banana:\n",
    "    def __init__(self):\n",
    "        self.color = \"yellow\"\n",
    "    def __repr__(self):\n",
    "        return self.color + \" \" + self.__class__.__name__\n",
    "    \n",
    "b = banana()\n",
    "print(b)"
   ]
  },
  {
   "cell_type": "markdown",
   "id": "01c75b79-5da3-42fd-8220-55dc68cbd602",
   "metadata": {
    "tags": []
   },
   "source": [
    "## Jupyter Shortcuts\n",
    "- **Create new cell:** A\n",
    "- **Delete cell:** Double D\n",
    "- **Split cell:** Ctrl+Shift+-\n",
    "- **Merge selected cells:** Shift+M\n",
    "***\n",
    "- **Markdow:** M\n",
    "- **Code:** Y\n",
    "***\n",
    "- **Execute in the same cell:** Ctrl+Enter\n",
    "- **Execute and jump cell:** Shift+Enter\n",
    "***\n",
    "- **Cut Cells:** X\n",
    "- **Copy Cells:** C\n",
    "- **Paste Cells:** V\n",
    "\n",
    "\n"
   ]
  },
  {
   "cell_type": "code",
   "execution_count": null,
   "id": "94e8d3e6-75e3-4b91-82a0-8c9893dd7410",
   "metadata": {},
   "outputs": [],
   "source": []
  }
 ],
 "metadata": {
  "kernelspec": {
   "display_name": "Python 3 (ipykernel)",
   "language": "python",
   "name": "python3"
  },
  "language_info": {
   "codemirror_mode": {
    "name": "ipython",
    "version": 3
   },
   "file_extension": ".py",
   "mimetype": "text/x-python",
   "name": "python",
   "nbconvert_exporter": "python",
   "pygments_lexer": "ipython3",
   "version": "3.10.6"
  }
 },
 "nbformat": 4,
 "nbformat_minor": 5
}
