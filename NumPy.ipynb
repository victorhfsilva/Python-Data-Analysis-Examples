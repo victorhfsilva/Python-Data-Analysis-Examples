{
 "cells": [
  {
   "cell_type": "markdown",
   "id": "58e99b6b-7d50-4221-aa62-0851330b519a",
   "metadata": {},
   "source": [
    "# Numpy"
   ]
  },
  {
   "cell_type": "markdown",
   "id": "f5291fb3-46ce-4f3e-88c4-84e28101e463",
   "metadata": {},
   "source": [
    "Numpy is a very efficient numerical processing library. In Python everything is an object. In contrast, Numpy uses primitive numeric types (floats, ints) which makes storing and computation more efficient than in Python."
   ]
  },
  {
   "cell_type": "markdown",
   "id": "99380cd2-4530-4f71-81ca-7bdf370c9e36",
   "metadata": {},
   "source": [
    "## Numpy Arrays"
   ]
  },
  {
   "cell_type": "code",
   "execution_count": 55,
   "id": "3f59d6ea-863c-4c7c-80ea-f86a5d6855e6",
   "metadata": {},
   "outputs": [],
   "source": [
    "import numpy as np\n",
    "\n",
    "a = np.array([1, 2, 3, 128], dtype=np.int8)\n",
    "b = np.array([0, .5, 1, 1.5, 2.2222222], dtype=np.float16)"
   ]
  },
  {
   "cell_type": "code",
   "execution_count": 56,
   "id": "0e2be1f5-f1db-4dfa-8703-d2f0443bc5c1",
   "metadata": {},
   "outputs": [
    {
     "data": {
      "text/plain": [
       "(1, 2)"
      ]
     },
     "execution_count": 56,
     "metadata": {},
     "output_type": "execute_result"
    }
   ],
   "source": [
    "a[0], a[1]"
   ]
  },
  {
   "cell_type": "code",
   "execution_count": 57,
   "id": "9559116d-690a-4666-bd3f-c3d11576f5a3",
   "metadata": {},
   "outputs": [
    {
     "data": {
      "text/plain": [
       "array([   1,    2,    3, -128], dtype=int8)"
      ]
     },
     "execution_count": 57,
     "metadata": {},
     "output_type": "execute_result"
    }
   ],
   "source": [
    "a[0:]"
   ]
  },
  {
   "cell_type": "code",
   "execution_count": 58,
   "id": "fbb85ab1-58f4-4106-89d5-60ae3114cc0e",
   "metadata": {},
   "outputs": [
    {
     "data": {
      "text/plain": [
       "array([2, 3], dtype=int8)"
      ]
     },
     "execution_count": 58,
     "metadata": {},
     "output_type": "execute_result"
    }
   ],
   "source": [
    "a[1:3]"
   ]
  },
  {
   "cell_type": "code",
   "execution_count": 59,
   "id": "40f044e4-d0b4-4937-832d-f94298df03fe",
   "metadata": {},
   "outputs": [
    {
     "data": {
      "text/plain": [
       "array([0.   , 1.   , 2.223], dtype=float16)"
      ]
     },
     "execution_count": 74,
     "metadata": {},
     "output_type": "execute_result"
    }
   ],
   "source": [
    "b[[0, 2, -1]] # Multi-indexing"
   ]
  },
  {
   "cell_type": "code",
   "execution_count": 60,
   "id": "6e07daf6-f86f-40e0-b62f-b7660fdae3ea",
   "metadata": {},
   "outputs": [
    {
     "data": {
      "text/plain": [
       "[1.5, 2.223, 1.0]"
      ]
     },
     "execution_count": 60,
     "metadata": {},
     "output_type": "execute_result"
    }
   ],
   "source": [
    "[b[-2], b[-1], b[-3]]"
   ]
  },
  {
   "cell_type": "code",
   "execution_count": 61,
   "id": "cd955e98-468a-49e2-9dd9-fc5e8dfd20f0",
   "metadata": {},
   "outputs": [
    {
     "data": {
      "text/plain": [
       "dtype('int8')"
      ]
     },
     "execution_count": 61,
     "metadata": {},
     "output_type": "execute_result"
    }
   ],
   "source": [
    "a.dtype"
   ]
  },
  {
   "cell_type": "code",
   "execution_count": 62,
   "id": "a04db89c-b0f9-43af-a149-dccad70ca1fd",
   "metadata": {},
   "outputs": [
    {
     "data": {
      "text/plain": [
       "dtype('float16')"
      ]
     },
     "execution_count": 62,
     "metadata": {},
     "output_type": "execute_result"
    }
   ],
   "source": [
    "b.dtype"
   ]
  },
  {
   "cell_type": "markdown",
   "id": "eaefd19f-c98e-43a0-b733-a59b87e4f7cf",
   "metadata": {},
   "source": [
    "### Dimmensions and Shape"
   ]
  },
  {
   "cell_type": "code",
   "execution_count": 75,
   "id": "c685536f-e795-42c1-995c-4b2784a2311f",
   "metadata": {},
   "outputs": [],
   "source": [
    "A = np.array([[\n",
    "    [1, 2, 3],\n",
    "    [4, 5, 6],\n",
    "    [7, 8, 9]\n",
    "],\n",
    "[\n",
    "    [9, 8, 7],\n",
    "    [6, 5, 4],\n",
    "    [3, 2, 1]\n",
    "]]\n",
    ")"
   ]
  },
  {
   "cell_type": "code",
   "execution_count": 76,
   "id": "ef6e9886-7d60-422d-9164-62795bdefb37",
   "metadata": {},
   "outputs": [
    {
     "data": {
      "text/plain": [
       "(2, 3, 3)"
      ]
     },
     "execution_count": 76,
     "metadata": {},
     "output_type": "execute_result"
    }
   ],
   "source": [
    "A.shape"
   ]
  },
  {
   "cell_type": "code",
   "execution_count": 77,
   "id": "c3deaf67-0a46-4782-8e4a-44cccdfefa08",
   "metadata": {},
   "outputs": [
    {
     "data": {
      "text/plain": [
       "3"
      ]
     },
     "execution_count": 77,
     "metadata": {},
     "output_type": "execute_result"
    }
   ],
   "source": [
    "A.ndim # Number of dimmensions"
   ]
  },
  {
   "cell_type": "code",
   "execution_count": 78,
   "id": "4c7f890a-4887-4cc0-9e13-a6427263d335",
   "metadata": {},
   "outputs": [
    {
     "data": {
      "text/plain": [
       "18"
      ]
     },
     "execution_count": 78,
     "metadata": {},
     "output_type": "execute_result"
    }
   ],
   "source": [
    "A.size"
   ]
  },
  {
   "cell_type": "code",
   "execution_count": 79,
   "id": "02da0cd5-7243-440f-a0d5-3f68f41a6781",
   "metadata": {},
   "outputs": [
    {
     "data": {
      "text/plain": [
       "dtype('int64')"
      ]
     },
     "execution_count": 79,
     "metadata": {},
     "output_type": "execute_result"
    }
   ],
   "source": [
    "A.dtype"
   ]
  },
  {
   "cell_type": "markdown",
   "id": "67efcdbd-d045-4742-bdd0-abe4375b8fe6",
   "metadata": {},
   "source": [
    "### Indexing and Slicing Matrices"
   ]
  },
  {
   "cell_type": "code",
   "execution_count": 80,
   "id": "e1660934-f326-40c2-94a0-7db3cf709967",
   "metadata": {},
   "outputs": [
    {
     "data": {
      "text/plain": [
       "array([[9, 8, 7],\n",
       "       [6, 5, 4],\n",
       "       [3, 2, 1]])"
      ]
     },
     "execution_count": 80,
     "metadata": {},
     "output_type": "execute_result"
    }
   ],
   "source": [
    "A[1]"
   ]
  },
  {
   "cell_type": "code",
   "execution_count": 82,
   "id": "196231e5-fff0-4c6c-a2ce-cae53cc0b2bb",
   "metadata": {},
   "outputs": [
    {
     "data": {
      "text/plain": [
       "array([6, 5, 4])"
      ]
     },
     "execution_count": 82,
     "metadata": {},
     "output_type": "execute_result"
    }
   ],
   "source": [
    "A[1][1]"
   ]
  },
  {
   "cell_type": "code",
   "execution_count": 84,
   "id": "51e689f3-df2b-4fc7-b73d-7659b33b3ff6",
   "metadata": {},
   "outputs": [
    {
     "data": {
      "text/plain": [
       "array([4, 5, 6])"
      ]
     },
     "execution_count": 84,
     "metadata": {},
     "output_type": "execute_result"
    }
   ],
   "source": [
    "A[0,1]"
   ]
  },
  {
   "cell_type": "code",
   "execution_count": 92,
   "id": "3bc927ea-4b69-4f0d-b3c7-45537e9825e7",
   "metadata": {},
   "outputs": [
    {
     "data": {
      "text/plain": [
       "array([[[5, 6],\n",
       "        [8, 9]],\n",
       "\n",
       "       [[5, 4],\n",
       "        [2, 1]]])"
      ]
     },
     "execution_count": 92,
     "metadata": {},
     "output_type": "execute_result"
    }
   ],
   "source": [
    "A[:2,1:,1:3]"
   ]
  },
  {
   "cell_type": "markdown",
   "id": "8244c30c-feba-4aab-8a6e-361792930d77",
   "metadata": {},
   "source": [
    "### Statistics"
   ]
  },
  {
   "cell_type": "code",
   "execution_count": 93,
   "id": "49d4782f-7ee6-4b43-bdb1-e6f4eb3e1fd2",
   "metadata": {},
   "outputs": [
    {
     "data": {
      "text/plain": [
       "5.223"
      ]
     },
     "execution_count": 93,
     "metadata": {},
     "output_type": "execute_result"
    }
   ],
   "source": [
    "b.sum()"
   ]
  },
  {
   "cell_type": "code",
   "execution_count": 94,
   "id": "bfc95830-edde-4897-821d-c2dd977fde29",
   "metadata": {},
   "outputs": [
    {
     "data": {
      "text/plain": [
       "1.045"
      ]
     },
     "execution_count": 94,
     "metadata": {},
     "output_type": "execute_result"
    }
   ],
   "source": [
    "b.mean()"
   ]
  },
  {
   "cell_type": "code",
   "execution_count": 95,
   "id": "9ac27c38-8beb-4564-af00-aa6278da2928",
   "metadata": {},
   "outputs": [
    {
     "data": {
      "text/plain": [
       "0.7725"
      ]
     },
     "execution_count": 95,
     "metadata": {},
     "output_type": "execute_result"
    }
   ],
   "source": [
    "b.std()"
   ]
  },
  {
   "cell_type": "code",
   "execution_count": 96,
   "id": "f2d8e427-0964-4386-95fe-e8649b72a88e",
   "metadata": {},
   "outputs": [
    {
     "data": {
      "text/plain": [
       "0.5967"
      ]
     },
     "execution_count": 96,
     "metadata": {},
     "output_type": "execute_result"
    }
   ],
   "source": [
    "b.var()"
   ]
  },
  {
   "cell_type": "code",
   "execution_count": 97,
   "id": "88c218ae-99d9-4ea2-afb7-56cb9fd484bf",
   "metadata": {},
   "outputs": [
    {
     "data": {
      "text/plain": [
       "90"
      ]
     },
     "execution_count": 97,
     "metadata": {},
     "output_type": "execute_result"
    }
   ],
   "source": [
    "A.sum()"
   ]
  },
  {
   "cell_type": "code",
   "execution_count": 98,
   "id": "512645ff-f8bb-488b-b21d-2af36f3aa1ed",
   "metadata": {},
   "outputs": [
    {
     "data": {
      "text/plain": [
       "5.0"
      ]
     },
     "execution_count": 98,
     "metadata": {},
     "output_type": "execute_result"
    }
   ],
   "source": [
    "A.mean()"
   ]
  },
  {
   "cell_type": "code",
   "execution_count": 99,
   "id": "fb9c4a1e-5596-4383-9c26-251da089c1fc",
   "metadata": {},
   "outputs": [
    {
     "data": {
      "text/plain": [
       "2.581988897471611"
      ]
     },
     "execution_count": 99,
     "metadata": {},
     "output_type": "execute_result"
    }
   ],
   "source": [
    "A.std()"
   ]
  },
  {
   "cell_type": "code",
   "execution_count": 102,
   "id": "8015bae4-ed1b-4ee5-b29b-4181ecdc5e4a",
   "metadata": {},
   "outputs": [
    {
     "data": {
      "text/plain": [
       "array([[10, 10, 10],\n",
       "       [10, 10, 10],\n",
       "       [10, 10, 10]])"
      ]
     },
     "execution_count": 102,
     "metadata": {},
     "output_type": "execute_result"
    }
   ],
   "source": [
    "A.sum(axis=0)"
   ]
  },
  {
   "cell_type": "code",
   "execution_count": 103,
   "id": "769feae9-2ae7-476e-935f-03a3aef7b0fd",
   "metadata": {},
   "outputs": [
    {
     "data": {
      "text/plain": [
       "array([[12, 15, 18],\n",
       "       [18, 15, 12]])"
      ]
     },
     "execution_count": 103,
     "metadata": {},
     "output_type": "execute_result"
    }
   ],
   "source": [
    "A.sum(axis=1)"
   ]
  },
  {
   "cell_type": "code",
   "execution_count": 104,
   "id": "0b9235cf-104e-4295-9d37-41db7ddf34cc",
   "metadata": {},
   "outputs": [
    {
     "data": {
      "text/plain": [
       "array([[ 6, 15, 24],\n",
       "       [24, 15,  6]])"
      ]
     },
     "execution_count": 104,
     "metadata": {},
     "output_type": "execute_result"
    }
   ],
   "source": [
    "A.sum(axis=2)"
   ]
  },
  {
   "cell_type": "code",
   "execution_count": 107,
   "id": "ab47b578-9a1b-4f0d-b44e-2e60ded88325",
   "metadata": {},
   "outputs": [
    {
     "data": {
      "text/plain": [
       "array([[2., 5., 8.],\n",
       "       [8., 5., 2.]])"
      ]
     },
     "execution_count": 107,
     "metadata": {},
     "output_type": "execute_result"
    }
   ],
   "source": [
    "A.mean(axis=2)"
   ]
  },
  {
   "cell_type": "markdown",
   "id": "b36e2384-940f-4551-ac9f-3fac171ca461",
   "metadata": {},
   "source": [
    "## Numpy Operations"
   ]
  },
  {
   "cell_type": "markdown",
   "id": "eba19e30-2e9d-4707-aedc-494cdce22914",
   "metadata": {},
   "source": [
    "### Broadcasting and Vectorized Operations"
   ]
  },
  {
   "cell_type": "code",
   "execution_count": 116,
   "id": "0758b337-6dce-4645-8415-00e2bac60250",
   "metadata": {},
   "outputs": [],
   "source": [
    "c = np.arange(4)"
   ]
  },
  {
   "cell_type": "code",
   "execution_count": 109,
   "id": "68aea4cf-4ed5-4bf8-a8b4-1ddd348ac606",
   "metadata": {},
   "outputs": [
    {
     "data": {
      "text/plain": [
       "array([0, 1, 2, 3])"
      ]
     },
     "execution_count": 109,
     "metadata": {},
     "output_type": "execute_result"
    }
   ],
   "source": [
    "c"
   ]
  },
  {
   "cell_type": "code",
   "execution_count": 111,
   "id": "5732f05c-fff4-44f7-a540-627b43fe0d30",
   "metadata": {},
   "outputs": [
    {
     "data": {
      "text/plain": [
       "array([10, 11, 12, 13])"
      ]
     },
     "execution_count": 111,
     "metadata": {},
     "output_type": "execute_result"
    }
   ],
   "source": [
    "c + 10 # element wise sum"
   ]
  },
  {
   "cell_type": "code",
   "execution_count": 117,
   "id": "b8881586-3826-4c09-9f50-95de5f70886a",
   "metadata": {},
   "outputs": [],
   "source": [
    "c += 1"
   ]
  },
  {
   "cell_type": "code",
   "execution_count": 118,
   "id": "dc0797e5-1f48-4467-b516-2b864951381f",
   "metadata": {},
   "outputs": [
    {
     "data": {
      "text/plain": [
       "array([1, 2, 3, 4])"
      ]
     },
     "execution_count": 118,
     "metadata": {},
     "output_type": "execute_result"
    }
   ],
   "source": [
    "c"
   ]
  },
  {
   "cell_type": "code",
   "execution_count": 122,
   "id": "8981e12c-8886-44c7-8c60-8dadd672d1bd",
   "metadata": {},
   "outputs": [
    {
     "data": {
      "text/plain": [
       "array([   2,    4,    6, -124])"
      ]
     },
     "execution_count": 122,
     "metadata": {},
     "output_type": "execute_result"
    }
   ],
   "source": [
    "a + c # element wise sum"
   ]
  },
  {
   "cell_type": "code",
   "execution_count": null,
   "id": "034aa88a-6bb2-4e53-87e1-f2c691d347fb",
   "metadata": {},
   "outputs": [],
   "source": []
  }
 ],
 "metadata": {
  "kernelspec": {
   "display_name": "Python 3 (ipykernel)",
   "language": "python",
   "name": "python3"
  },
  "language_info": {
   "codemirror_mode": {
    "name": "ipython",
    "version": 3
   },
   "file_extension": ".py",
   "mimetype": "text/x-python",
   "name": "python",
   "nbconvert_exporter": "python",
   "pygments_lexer": "ipython3",
   "version": "3.10.6"
  }
 },
 "nbformat": 4,
 "nbformat_minor": 5
}
